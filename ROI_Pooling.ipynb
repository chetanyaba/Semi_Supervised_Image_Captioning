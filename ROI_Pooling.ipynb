{
  "nbformat": 4,
  "nbformat_minor": 0,
  "metadata": {
    "colab": {
      "name": "ROI Pooling",
      "provenance": []
    },
    "kernelspec": {
      "name": "python3",
      "display_name": "Python 3"
    },
    "language_info": {
      "name": "python"
    }
  },
  "cells": [
    {
      "cell_type": "code",
      "metadata": {
        "colab": {
          "base_uri": "https://localhost:8080/"
        },
        "id": "m1ZnSeMpYeqX",
        "outputId": "b8f2cf5d-ed99-4fef-bee0-dce46462c67b"
      },
      "source": [
        "from google.colab import drive\n",
        "drive.mount('/gdrive')"
      ],
      "execution_count": null,
      "outputs": [
        {
          "output_type": "stream",
          "text": [
            "Mounted at /gdrive\n"
          ],
          "name": "stdout"
        }
      ]
    },
    {
      "cell_type": "code",
      "metadata": {
        "id": "e4yFQ160XeUx"
      },
      "source": [
        "import tensorflow as tf\n",
        "from tensorflow.keras.layers import Layer\n",
        "\n",
        "class ROIPoolingLayer(Layer):\n",
        "    \"\"\" Implements Region Of Interest Max Pooling \n",
        "        for channel-first images and relative bounding box coordinates\n",
        "        \n",
        "        # Constructor parameters\n",
        "            pooled_height, pooled_width (int) -- \n",
        "              specify height and width of layer outputs\n",
        "        \n",
        "        Shape of inputs\n",
        "            [(batch_size, pooled_height, pooled_width, n_channels),\n",
        "             (batch_size, num_rois, 4)]\n",
        "           \n",
        "        Shape of output\n",
        "            (batch_size, num_rois, pooled_height, pooled_width, n_channels)\n",
        "    \n",
        "    \"\"\"\n",
        "    def __init__(self, pooled_height, pooled_width, **kwargs):\n",
        "        self.pooled_height = pooled_height\n",
        "        self.pooled_width = pooled_width\n",
        "        \n",
        "        super(ROIPoolingLayer, self).__init__(**kwargs)\n",
        "        \n",
        "    def compute_output_shape(self, input_shape):\n",
        "        \"\"\" Returns the shape of the ROI Layer output\n",
        "        \"\"\"\n",
        "        feature_map_shape, rois_shape = input_shape\n",
        "        assert feature_map_shape[0] == rois_shape[0]\n",
        "        batch_size = feature_map_shape[0]\n",
        "        n_rois = rois_shape[1]\n",
        "        n_channels = feature_map_shape[3]\n",
        "        return (batch_size, n_rois, self.pooled_height, \n",
        "                self.pooled_width, n_channels)\n",
        "\n",
        "    def call(self, x):\n",
        "        \"\"\" Maps the input tensor of the ROI layer to its output\n",
        "        \n",
        "            # Parameters\n",
        "                x[0] -- Convolutional feature map tensor,\n",
        "                        shape (batch_size, pooled_height, pooled_width, n_channels)\n",
        "                x[1] -- Tensor of region of interests from candidate bounding boxes,\n",
        "                        shape (batch_size, num_rois, 4)\n",
        "                        Each region of interest is defined by four relative \n",
        "                        coordinates (x_min, y_min, x_max, y_max) between 0 and 1\n",
        "            # Output\n",
        "                pooled_areas -- Tensor with the pooled region of interest, shape\n",
        "                    (batch_size, num_rois, pooled_height, pooled_width, n_channels)\n",
        "        \"\"\"\n",
        "        def curried_pool_rois(x): \n",
        "          return ROIPoolingLayer._pool_rois(x[0], x[1], \n",
        "                                            self.pooled_height, \n",
        "                                            self.pooled_width)\n",
        "        \n",
        "        pooled_areas = tf.map_fn(curried_pool_rois, x, dtype=tf.float32)\n",
        "\n",
        "        return pooled_areas\n",
        "    \n",
        "    @staticmethod\n",
        "    def _pool_rois(feature_map, rois, pooled_height, pooled_width):\n",
        "        \"\"\" Applies ROI pooling for a single image and varios ROIs\n",
        "        \"\"\"\n",
        "        def curried_pool_roi(roi): \n",
        "          return ROIPoolingLayer._pool_roi(feature_map, roi, \n",
        "                                           pooled_height, pooled_width)\n",
        "        \n",
        "        pooled_areas = tf.map_fn(curried_pool_roi, rois, dtype=tf.float32)\n",
        "        return pooled_areas\n",
        "    \n",
        "    @staticmethod\n",
        "    def _pool_roi(feature_map, roi, pooled_height, pooled_width):\n",
        "        \"\"\" Applies ROI pooling to a single image and a single region of interest\n",
        "        \"\"\"\n",
        "\n",
        "        # Compute the region of interest        \n",
        "        feature_map_height = int(feature_map.shape[0])\n",
        "        feature_map_width  = int(feature_map.shape[1])\n",
        "        \n",
        "        h_start = tf.cast(feature_map_height * roi[0], 'int32')\n",
        "        w_start = tf.cast(feature_map_width  * roi[1], 'int32')\n",
        "        h_end   = tf.cast(feature_map_height * roi[2], 'int32')\n",
        "        w_end   = tf.cast(feature_map_width  * roi[3], 'int32')\n",
        "        \n",
        "        region = feature_map[h_start:h_end, w_start:w_end, :]\n",
        "        \n",
        "        # Divide the region into non overlapping areas\n",
        "        region_height = h_end - h_start\n",
        "        region_width  = w_end - w_start\n",
        "        h_step = tf.cast( region_height / pooled_height, 'int32')\n",
        "        w_step = tf.cast( region_width  / pooled_width , 'int32')\n",
        "        \n",
        "        areas = [[(\n",
        "                    i*h_step, \n",
        "                    j*w_step, \n",
        "                    (i+1)*h_step if i+1 < pooled_height else region_height, \n",
        "                    (j+1)*w_step if j+1 < pooled_width else region_width\n",
        "                   ) \n",
        "                   for j in range(pooled_width)] \n",
        "                  for i in range(pooled_height)]\n",
        "        \n",
        "        # take the maximum of each area and stack the result\n",
        "        def pool_area(x): \n",
        "          return tf.math.reduce_max(region[x[0]:x[2], x[1]:x[3], :], axis=[0,1])\n",
        "        \n",
        "        pooled_features = tf.stack([[pool_area(x) for x in row] for row in areas])\n",
        "        return pooled_features\n",
        "\n",
        " "
      ],
      "execution_count": null,
      "outputs": []
    }
  ]
}